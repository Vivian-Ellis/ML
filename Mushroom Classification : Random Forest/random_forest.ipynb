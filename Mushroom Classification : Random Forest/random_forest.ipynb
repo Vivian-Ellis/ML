{
 "cells": [
  {
   "cell_type": "code",
   "execution_count": 1,
   "metadata": {},
   "outputs": [],
   "source": [
    "# dataset\n",
    "from google.cloud import bigquery\n",
    "from google.oauth2 import service_account\n",
    "\n",
    "# maths and eda\n",
    "import numpy as np\n",
    "import pandas as pd\n",
    "from ydata_profiling import ProfileReport\n",
    "\n",
    "# viz\n",
    "import matplotlib.pyplot as plt\n",
    "%matplotlib inline\n",
    "import seaborn as sns\n",
    "\n",
    "# model\n",
    "from sklearn.ensemble import RandomForestClassifier\n",
    "from sklearn.metrics import accuracy_score, confusion_matrix, precision_score, recall_score, ConfusionMatrixDisplay\n",
    "from sklearn.model_selection import RandomizedSearchCV, train_test_split\n",
    "from sklearn.pipeline import Pipeline\n",
    "from sklearn.compose import ColumnTransformer\n",
    "from sklearn.preprocessing import OneHotEncoder\n",
    "\n",
    "import warnings\n",
    "warnings.filterwarnings(\"ignore\")\n",
    "\n",
    "credentials = service_account.Credentials.from_service_account_file('../credentials')\n",
    "# Initialize the BigQuery client\n",
    "client = bigquery.Client(credentials=credentials)"
   ]
  },
  {
   "cell_type": "markdown",
   "metadata": {},
   "source": [
    "# About the dataset\n",
    "\n",
    "The mushroom dataset is part of the UCI Machine Learning repository.\n",
    "<br><br>\n",
    "Despite the appeal of mushroom foraging, gatherers must be cautious, as mushrooms can be poisonous or even deadly.\n",
    "<br><br>\n",
    "This project aims to determine what characteristic features of mushrooms cause certain death and which are most edible. Note that all the data in this data set are hypothetical and based on 23 species of gilled mushrooms in the Agaricus and Lepiota Family Mushroom.\n",
    "<br><br>\n",
    "<b>Question:</b> Which features are most indicative of a poisonous mushroom?\n",
    "\n",
    "# 🍄 About Mushrooms 🍄\n",
    "Before I begin EDA on this data set, it is essential to know the anatomy of a mushroom.\n",
    "\n",
    "![mushroom anatomy](mushroom_anatomy.jpg)\n",
    "\n",
    "This datasets contains the following information about <b>caps:</b>\n",
    "-  cap-shape: bell=b,conical=c,convex=x,flat=f, knobbed=k,sunken=s\n",
    "-  cap-surface: fibrous=f,grooves=g,scaly=y,smooth=s\n",
    "-  cap-color: brown=n,buff=b,cinnamon=c,gray=g,green=r,pink=p,purple=u,red=e,white=w,yellow=y\n",
    "\n",
    "This datasets contains the following information about the <b>gill:</b>\n",
    "- gill-attachment: attached=a,descending=d,free=f,notched=n\n",
    "- gill-spacing: close=c,crowded=w,distant=d\n",
    "- gill-size: broad=b,narrow=n\n",
    "- gill-color: black=k,brown=n,buff=b,chocolate=h,gray=g, green=r,orange=o,pink=p,purple=u,red=e,white=w,yellow=y\n",
    "\n",
    "This datasets contains the following information about the <b>stalk:</b>\n",
    "- stalk-shape: enlarging=e,tapering=t\n",
    "- stalk-root: bulbous=b,club=c,cup=u,equal=e,rhizomorphs=z,rooted=r,missing=?\n",
    "- stalk-surface-above-ring: fibrous=f,scaly=y,silky=k,smooth=s\n",
    "- stalk-surface-below-ring: fibrous=f,scaly=y,silky=k,smooth=s\n",
    "- stalk-color-above-ring: brown=n,buff=b,cinnamon=c,gray=g,orange=o,pink=p,red=e,white=w,yellow=y\n",
    "- stalk-color-below-ring: brown=n,buff=b,cinnamon=c,gray=g,orange=o,pink=p,red=e,white=w,yellow=y\n",
    "\n",
    "This datasets contains the following information about the <b>veil:</b>\n",
    "- veil-type: partial=p,universal=u\n",
    "- veil-color: brown=n,orange=o,white=w,yellow=y\n",
    "\n",
    "This datasets contains the following information about the <b>ring:</b>\n",
    "- ring-number: none=n,one=o,two=t\n",
    "- ring-type: cobwebby=c,evanescent=e,flaring=f,large=l,none=n,pendant=p,sheathing=s,zone=z\n",
    "\n",
    "Additional characteristics:\n",
    "- spore-print-color: black=k,brown=n,buff=b,chocolate=h,green=r,orange=o,purple=u,white=w,yellow=y\n",
    "- population: abundant=a,clustered=c,numerous=n,scattered=s,several=v,solitary=y\n",
    "- habitat: grasses=g,leaves=l,meadows=m,paths=p,urban=u,waste=w,woods=d\n",
    "- bruises: bruises=t,no=f\n",
    "- odor: almond=a,anise=l,creosote=c,fishy=y,foul=f,musty=m,none=n,pungent=p,spicy=s"
   ]
  },
  {
   "cell_type": "code",
   "execution_count": 2,
   "metadata": {},
   "outputs": [
    {
     "data": {
      "text/html": [
       "<div>\n",
       "<style scoped>\n",
       "    .dataframe tbody tr th:only-of-type {\n",
       "        vertical-align: middle;\n",
       "    }\n",
       "\n",
       "    .dataframe tbody tr th {\n",
       "        vertical-align: top;\n",
       "    }\n",
       "\n",
       "    .dataframe thead th {\n",
       "        text-align: right;\n",
       "    }\n",
       "</style>\n",
       "<table border=\"1\" class=\"dataframe\">\n",
       "  <thead>\n",
       "    <tr style=\"text-align: right;\">\n",
       "      <th></th>\n",
       "      <th>class</th>\n",
       "      <th>cap-shape</th>\n",
       "      <th>cap-surface</th>\n",
       "      <th>cap-color</th>\n",
       "      <th>bruises</th>\n",
       "      <th>odor</th>\n",
       "      <th>gill-attachment</th>\n",
       "      <th>gill-spacing</th>\n",
       "      <th>gill-size</th>\n",
       "      <th>gill-color</th>\n",
       "      <th>...</th>\n",
       "      <th>stalk-surface-below-ring</th>\n",
       "      <th>stalk-color-above-ring</th>\n",
       "      <th>stalk-color-below-ring</th>\n",
       "      <th>veil-type</th>\n",
       "      <th>veil-color</th>\n",
       "      <th>ring-number</th>\n",
       "      <th>ring-type</th>\n",
       "      <th>spore-print-color</th>\n",
       "      <th>population</th>\n",
       "      <th>habitat</th>\n",
       "    </tr>\n",
       "  </thead>\n",
       "  <tbody>\n",
       "    <tr>\n",
       "      <th>0</th>\n",
       "      <td>p</td>\n",
       "      <td>x</td>\n",
       "      <td>y</td>\n",
       "      <td>e</td>\n",
       "      <td>False</td>\n",
       "      <td>m</td>\n",
       "      <td>f</td>\n",
       "      <td>c</td>\n",
       "      <td>b</td>\n",
       "      <td>w</td>\n",
       "      <td>...</td>\n",
       "      <td>y</td>\n",
       "      <td>c</td>\n",
       "      <td>c</td>\n",
       "      <td>p</td>\n",
       "      <td>w</td>\n",
       "      <td>n</td>\n",
       "      <td>n</td>\n",
       "      <td>w</td>\n",
       "      <td>c</td>\n",
       "      <td>d</td>\n",
       "    </tr>\n",
       "    <tr>\n",
       "      <th>1</th>\n",
       "      <td>p</td>\n",
       "      <td>k</td>\n",
       "      <td>y</td>\n",
       "      <td>c</td>\n",
       "      <td>False</td>\n",
       "      <td>m</td>\n",
       "      <td>a</td>\n",
       "      <td>c</td>\n",
       "      <td>b</td>\n",
       "      <td>w</td>\n",
       "      <td>...</td>\n",
       "      <td>y</td>\n",
       "      <td>c</td>\n",
       "      <td>c</td>\n",
       "      <td>p</td>\n",
       "      <td>w</td>\n",
       "      <td>n</td>\n",
       "      <td>n</td>\n",
       "      <td>w</td>\n",
       "      <td>c</td>\n",
       "      <td>d</td>\n",
       "    </tr>\n",
       "    <tr>\n",
       "      <th>2</th>\n",
       "      <td>p</td>\n",
       "      <td>k</td>\n",
       "      <td>y</td>\n",
       "      <td>n</td>\n",
       "      <td>False</td>\n",
       "      <td>m</td>\n",
       "      <td>f</td>\n",
       "      <td>c</td>\n",
       "      <td>b</td>\n",
       "      <td>w</td>\n",
       "      <td>...</td>\n",
       "      <td>y</td>\n",
       "      <td>c</td>\n",
       "      <td>c</td>\n",
       "      <td>p</td>\n",
       "      <td>w</td>\n",
       "      <td>n</td>\n",
       "      <td>n</td>\n",
       "      <td>w</td>\n",
       "      <td>c</td>\n",
       "      <td>d</td>\n",
       "    </tr>\n",
       "    <tr>\n",
       "      <th>3</th>\n",
       "      <td>p</td>\n",
       "      <td>f</td>\n",
       "      <td>y</td>\n",
       "      <td>e</td>\n",
       "      <td>False</td>\n",
       "      <td>m</td>\n",
       "      <td>a</td>\n",
       "      <td>c</td>\n",
       "      <td>b</td>\n",
       "      <td>w</td>\n",
       "      <td>...</td>\n",
       "      <td>y</td>\n",
       "      <td>c</td>\n",
       "      <td>c</td>\n",
       "      <td>p</td>\n",
       "      <td>w</td>\n",
       "      <td>n</td>\n",
       "      <td>n</td>\n",
       "      <td>w</td>\n",
       "      <td>c</td>\n",
       "      <td>d</td>\n",
       "    </tr>\n",
       "    <tr>\n",
       "      <th>4</th>\n",
       "      <td>p</td>\n",
       "      <td>k</td>\n",
       "      <td>y</td>\n",
       "      <td>e</td>\n",
       "      <td>False</td>\n",
       "      <td>m</td>\n",
       "      <td>f</td>\n",
       "      <td>c</td>\n",
       "      <td>b</td>\n",
       "      <td>y</td>\n",
       "      <td>...</td>\n",
       "      <td>y</td>\n",
       "      <td>c</td>\n",
       "      <td>c</td>\n",
       "      <td>p</td>\n",
       "      <td>w</td>\n",
       "      <td>n</td>\n",
       "      <td>n</td>\n",
       "      <td>w</td>\n",
       "      <td>c</td>\n",
       "      <td>d</td>\n",
       "    </tr>\n",
       "  </tbody>\n",
       "</table>\n",
       "<p>5 rows × 23 columns</p>\n",
       "</div>"
      ],
      "text/plain": [
       "  class cap-shape cap-surface cap-color  bruises odor gill-attachment  \\\n",
       "0     p         x           y         e    False    m               f   \n",
       "1     p         k           y         c    False    m               a   \n",
       "2     p         k           y         n    False    m               f   \n",
       "3     p         f           y         e    False    m               a   \n",
       "4     p         k           y         e    False    m               f   \n",
       "\n",
       "  gill-spacing gill-size gill-color  ... stalk-surface-below-ring  \\\n",
       "0            c         b          w  ...                        y   \n",
       "1            c         b          w  ...                        y   \n",
       "2            c         b          w  ...                        y   \n",
       "3            c         b          w  ...                        y   \n",
       "4            c         b          y  ...                        y   \n",
       "\n",
       "  stalk-color-above-ring stalk-color-below-ring veil-type veil-color  \\\n",
       "0                      c                      c         p          w   \n",
       "1                      c                      c         p          w   \n",
       "2                      c                      c         p          w   \n",
       "3                      c                      c         p          w   \n",
       "4                      c                      c         p          w   \n",
       "\n",
       "  ring-number ring-type spore-print-color population habitat  \n",
       "0           n         n                 w          c       d  \n",
       "1           n         n                 w          c       d  \n",
       "2           n         n                 w          c       d  \n",
       "3           n         n                 w          c       d  \n",
       "4           n         n                 w          c       d  \n",
       "\n",
       "[5 rows x 23 columns]"
      ]
     },
     "execution_count": 2,
     "metadata": {},
     "output_type": "execute_result"
    }
   ],
   "source": [
    "# query data\n",
    "QUERY = (\"\"\"SELECT * FROM `portfoliodata-428314.kaggle.mushrooms`\"\"\")\n",
    "query_job = client.query(QUERY)\n",
    "mushrooms = query_job.result().to_dataframe()\n",
    "mushrooms.head()"
   ]
  },
  {
   "cell_type": "markdown",
   "metadata": {},
   "source": [
    "# EDA"
   ]
  },
  {
   "cell_type": "code",
   "execution_count": 3,
   "metadata": {},
   "outputs": [],
   "source": [
    "# mushrooms_profile = ProfileReport(mushrooms, title=\"Report\")\n",
    "# mushrooms_profile"
   ]
  },
  {
   "cell_type": "markdown",
   "metadata": {},
   "source": [
    "# Feature Engineering & Data Cleanse"
   ]
  },
  {
   "cell_type": "code",
   "execution_count": 4,
   "metadata": {},
   "outputs": [],
   "source": [
    "# edible=e, poisonous=p\n",
    "mushrooms['class'] = mushrooms['class'].map({'e':'0','p':'1'})\n",
    "mushrooms['class']=mushrooms['class'].astype(int)"
   ]
  },
  {
   "cell_type": "code",
   "execution_count": 5,
   "metadata": {},
   "outputs": [],
   "source": [
    "# all the mushrooms in this dataset have a partial veil. remove from dataset\n",
    "mushrooms=mushrooms.drop('veil-type',axis=1)"
   ]
  },
  {
   "cell_type": "code",
   "execution_count": 6,
   "metadata": {},
   "outputs": [
    {
     "data": {
      "text/plain": [
       "gill-attachment-color\n",
       "f_b    1728\n",
       "f_p    1492\n",
       "f_w    1193\n",
       "f_n     984\n",
       "f_g     752\n",
       "f_h     732\n",
       "f_u     492\n",
       "f_k     408\n",
       "f_e      96\n",
       "a_y      73\n",
       "a_o      64\n",
       "a_n      64\n",
       "f_r      24\n",
       "f_y      13\n",
       "a_w       9\n",
       "Name: count, dtype: int64"
      ]
     },
     "execution_count": 6,
     "metadata": {},
     "output_type": "execute_result"
    }
   ],
   "source": [
    "# there are three variables that are imbalanced: gill-attachment, veil-color, and ring-number\n",
    "\n",
    "# create a new feature to reduce imbalance\n",
    "mushrooms['gill-attachment-color']=mushrooms['gill-attachment']+\"_\"+mushrooms['gill-color']\n",
    "mushrooms=mushrooms.drop('gill-attachment',axis=1)\n",
    "mushrooms['gill-attachment-color'].value_counts()"
   ]
  },
  {
   "cell_type": "code",
   "execution_count": 7,
   "metadata": {},
   "outputs": [],
   "source": [
    "mushrooms=mushrooms.drop('veil-color',axis=1)"
   ]
  },
  {
   "cell_type": "code",
   "execution_count": 8,
   "metadata": {},
   "outputs": [
    {
     "data": {
      "text/plain": [
       "ring_number_type\n",
       "o_p    3560\n",
       "o_e    2584\n",
       "o_l    1296\n",
       "t_p     408\n",
       "t_e     192\n",
       "o_f      48\n",
       "n_n      36\n",
       "Name: count, dtype: int64"
      ]
     },
     "execution_count": 8,
     "metadata": {},
     "output_type": "execute_result"
    }
   ],
   "source": [
    "# create a new feature to reduce imbalance\n",
    "mushrooms['ring_number_type']=mushrooms['ring-number']+\"_\"+mushrooms['ring-type']\n",
    "mushrooms=mushrooms.drop('ring-number',axis=1)\n",
    "mushrooms['ring_number_type'].value_counts()"
   ]
  },
  {
   "cell_type": "code",
   "execution_count": 9,
   "metadata": {},
   "outputs": [
    {
     "data": {
      "text/plain": [
       "gill-cap-color\n",
       "different    7224\n",
       "same          900\n",
       "Name: count, dtype: int64"
      ]
     },
     "execution_count": 9,
     "metadata": {},
     "output_type": "execute_result"
    }
   ],
   "source": [
    "# is the gill color the same as the cap color?\n",
    "mushrooms['gill-cap-color']=np.where(mushrooms[\"gill-color\"]==mushrooms[\"cap-color\"],\"same\",\"different\")\n",
    "mushrooms['gill-cap-color'].value_counts()"
   ]
  },
  {
   "cell_type": "code",
   "execution_count": 10,
   "metadata": {},
   "outputs": [
    {
     "data": {
      "text/plain": [
       "stalk-color-above-below-ring\n",
       "same         5068\n",
       "different    3056\n",
       "Name: count, dtype: int64"
      ]
     },
     "execution_count": 10,
     "metadata": {},
     "output_type": "execute_result"
    }
   ],
   "source": [
    "# new field for stalk color\n",
    "mushrooms['stalk-color-above-below-ring']=np.where(mushrooms[\"stalk-color-above-ring\"]==mushrooms[\"stalk-color-below-ring\"],\"same\",\"different\")\n",
    "mushrooms['stalk-color-above-below-ring'].value_counts()"
   ]
  },
  {
   "cell_type": "code",
   "execution_count": 11,
   "metadata": {},
   "outputs": [
    {
     "data": {
      "text/plain": [
       "stalk-ring-color-cap-color\n",
       "different                6652\n",
       "same_above_below_ring    1152\n",
       "same_below_ring           180\n",
       "same_above_ring           140\n",
       "Name: count, dtype: int64"
      ]
     },
     "execution_count": 11,
     "metadata": {},
     "output_type": "execute_result"
    }
   ],
   "source": [
    "# is the cap color different than the stalk?\n",
    "mushrooms['stalk-ring-color-cap-color']=np.where((mushrooms[\"stalk-color-above-ring\"]==mushrooms[\"cap-color\"]) & (mushrooms[\"stalk-color-below-ring\"]!=mushrooms[\"cap-color\"]),\"same_above_ring\",\n",
    "                                                 np.where((mushrooms[\"stalk-color-below-ring\"]==mushrooms[\"cap-color\"]) & (mushrooms[\"stalk-color-above-ring\"]!=mushrooms[\"cap-color\"]),\"same_below_ring\",\n",
    "                                                 np.where((mushrooms[\"stalk-color-above-ring\"]==mushrooms[\"cap-color\"]) & (mushrooms[\"stalk-color-below-ring\"]==mushrooms[\"cap-color\"]),\"same_above_below_ring\",\n",
    "                                                 \"different\"))\n",
    "                                                )\n",
    "mushrooms['stalk-ring-color-cap-color'].value_counts()"
   ]
  },
  {
   "cell_type": "code",
   "execution_count": 12,
   "metadata": {},
   "outputs": [
    {
     "data": {
      "text/plain": [
       "red\n",
       "n    6516\n",
       "y    1608\n",
       "Name: count, dtype: int64"
      ]
     },
     "execution_count": 12,
     "metadata": {},
     "output_type": "execute_result"
    }
   ],
   "source": [
    "# is there red in the cap or stalk\n",
    "mushrooms['red']=np.where((mushrooms[\"cap-color\"]==\"e\") | (mushrooms[\"stalk-color-above-ring\"]==\"e\") | (mushrooms[\"stalk-color-below-ring\"]==\"e\"),\"y\",\"n\")\n",
    "mushrooms['red'].value_counts()"
   ]
  },
  {
   "cell_type": "code",
   "execution_count": 13,
   "metadata": {},
   "outputs": [],
   "source": [
    "mushrooms=mushrooms.drop([\"stalk-color-below-ring\",\"stalk-color-above-ring\"],axis=1)"
   ]
  },
  {
   "cell_type": "code",
   "execution_count": 14,
   "metadata": {},
   "outputs": [
    {
     "data": {
      "text/plain": [
       "white-gill\n",
       "n    6922\n",
       "y    1202\n",
       "Name: count, dtype: int64"
      ]
     },
     "execution_count": 14,
     "metadata": {},
     "output_type": "execute_result"
    }
   ],
   "source": [
    "# is there white on the gill?\n",
    "mushrooms['white-gill']=np.where(mushrooms[\"gill-color\"]==\"w\",\"y\",\"n\")\n",
    "mushrooms=mushrooms.drop(\"gill-color\",axis=1)\n",
    "mushrooms['white-gill'].value_counts()"
   ]
  },
  {
   "cell_type": "markdown",
   "metadata": {},
   "source": [
    "# Random Forest"
   ]
  },
  {
   "cell_type": "code",
   "execution_count": 35,
   "metadata": {},
   "outputs": [
    {
     "name": "stdout",
     "output_type": "stream",
     "text": [
      "Accuracy: 0.9512 Precision: 0.9553443275932688 Recall: 0.9511894995898277\n"
     ]
    }
   ],
   "source": [
    "X = mushrooms.drop('class', axis=1)\n",
    "y = mushrooms['class']\n",
    "\n",
    "# this dataset only contains categorical features\n",
    "categorical_pipeline = Pipeline([('encoding', OneHotEncoder(drop='first', sparse_output=False))])\n",
    "data_pipeline = ColumnTransformer([('categorical', categorical_pipeline, X.columns)])\n",
    "\n",
    "# 20% out of bag test dataset\n",
    "X_train, X_test, y_train, y_test = train_test_split(X, y, test_size=0.3)\n",
    "\n",
    "\n",
    "pipeline = Pipeline(steps=[('data_pipeline', data_pipeline),('rf', RandomForestClassifier(max_depth=3))])\n",
    "\n",
    "pipeline.fit(X_train, y_train)\n",
    "\n",
    "# evaluate the model on the out of bag test dataset\n",
    "y_pred = pipeline.predict(X_test)\n",
    "\n",
    "# metrics\n",
    "accuracy = accuracy_score(y_test, y_pred)\n",
    "precision = precision_score(y_test, y_pred, average='weighted')\n",
    "recall = recall_score(y_test, y_pred, average='weighted')\n",
    "\n",
    "print(f\"Accuracy: {accuracy:.4f} Precision: {precision:.4f} Recall: {recall:.4f}\")"
   ]
  },
  {
   "cell_type": "code",
   "execution_count": 36,
   "metadata": {},
   "outputs": [
    {
     "name": "stdout",
     "output_type": "stream",
     "text": [
      "Training set accuracy: 0.9520\n"
     ]
    }
   ],
   "source": [
    "# check to make sure we are not overfitting the model\n",
    "print(f\"Training set accuracy: {pipeline.score(X_train, y_train):.4f}\")"
   ]
  },
  {
   "cell_type": "code",
   "execution_count": 29,
   "metadata": {},
   "outputs": [],
   "source": [
    "data = {\n",
    "    'name': [\n",
    "        'cap-shape', 'cap-shape', 'cap-shape', 'cap-shape', 'cap-shape', 'cap-shape',\n",
    "        'cap-surface', 'cap-surface', 'cap-surface', 'cap-surface',\n",
    "        'cap-color', 'cap-color', 'cap-color', 'cap-color', 'cap-color', 'cap-color', 'cap-color', 'cap-color', 'cap-color', 'cap-color',\n",
    "        'gill-attachment', 'gill-attachment', 'gill-attachment', 'gill-attachment',\n",
    "        'gill-spacing', 'gill-spacing', 'gill-spacing',\n",
    "        'gill-size', 'gill-size',\n",
    "        'gill-color', 'gill-color', 'gill-color', 'gill-color', 'gill-color', 'gill-color', 'gill-color', 'gill-color', 'gill-color', 'gill-color', 'gill-color', 'gill-color',\n",
    "        'stalk-shape', 'stalk-shape',\n",
    "        'stalk-root', 'stalk-root', 'stalk-root', 'stalk-root', 'stalk-root', 'stalk-root', 'stalk-root',\n",
    "        'stalk-surface-above-ring', 'stalk-surface-above-ring', 'stalk-surface-above-ring', 'stalk-surface-above-ring',\n",
    "        'stalk-surface-below-ring', 'stalk-surface-below-ring', 'stalk-surface-below-ring', 'stalk-surface-below-ring',\n",
    "        'stalk-color-above-ring', 'stalk-color-above-ring', 'stalk-color-above-ring', 'stalk-color-above-ring', 'stalk-color-above-ring', 'stalk-color-above-ring', 'stalk-color-above-ring', 'stalk-color-above-ring', 'stalk-color-above-ring',\n",
    "        'stalk-color-below-ring', 'stalk-color-below-ring', 'stalk-color-below-ring', 'stalk-color-below-ring', 'stalk-color-below-ring', 'stalk-color-below-ring', 'stalk-color-below-ring', 'stalk-color-below-ring', 'stalk-color-below-ring',\n",
    "        'veil-type', 'veil-type',\n",
    "        'veil-color', 'veil-color', 'veil-color', 'veil-color',\n",
    "        'ring-number', 'ring-number', 'ring-number',\n",
    "        'ring-type', 'ring-type', 'ring-type', 'ring-type', 'ring-type', 'ring-type', 'ring-type', 'ring-type',\n",
    "        'spore-print-color', 'spore-print-color', 'spore-print-color', 'spore-print-color', 'spore-print-color', 'spore-print-color', 'spore-print-color', 'spore-print-color', 'spore-print-color',\n",
    "        'population', 'population', 'population', 'population', 'population', 'population',\n",
    "        'habitat', 'habitat', 'habitat', 'habitat', 'habitat', 'habitat', 'habitat',\n",
    "        'bruises', 'bruises',\n",
    "        'odor', 'odor', 'odor', 'odor', 'odor', 'odor', 'odor', 'odor', 'odor'\n",
    "    ],\n",
    "    'value': [\n",
    "        'b', 'c', 'x', 'f', 'k', 's',\n",
    "        'f', 'g', 'y', 's',\n",
    "        'n', 'b', 'c', 'g', 'r', 'p', 'u', 'e', 'w', 'y',\n",
    "        'a', 'd', 'f', 'n',\n",
    "        'c', 'w', 'd',\n",
    "        'b', 'n',\n",
    "        'k', 'n', 'b', 'h', 'g', 'r', 'o', 'p', 'u', 'e', 'w', 'y',\n",
    "        'e', 't',\n",
    "        'b', 'c', 'u', 'e', 'z', 'r', '?',\n",
    "        'f', 'y', 'k', 's',\n",
    "        'f', 'y', 'k', 's',\n",
    "        'n', 'b', 'c', 'g', 'o', 'p', 'e', 'w', 'y',\n",
    "        'n', 'b', 'c', 'g', 'o', 'p', 'e', 'w', 'y',\n",
    "        'p', 'u',\n",
    "        'n', 'o', 'w', 'y',\n",
    "        'n', 'o', 't',\n",
    "        'c', 'e', 'f', 'l', 'n', 'p', 's', 'z',\n",
    "        'k', 'n', 'b', 'h', 'r', 'o', 'u', 'w', 'y',\n",
    "        'a', 'c', 'n', 's', 'v', 'y',\n",
    "        'g', 'l', 'm', 'p', 'u', 'w', 'd',\n",
    "        't', 'f',\n",
    "        'a', 'l', 'c', 'y', 'f', 'm', 'n', 'p', 's'\n",
    "    ],\n",
    "    'description': [\n",
    "        'bell', 'conical', 'convex', 'flat', 'knobbed', 'sunken',\n",
    "        'fibrous', 'grooves', 'scaly', 'smooth',\n",
    "        'brown', 'buff', 'cinnamon', 'gray', 'green', 'pink', 'purple', 'red', 'white', 'yellow',\n",
    "        'attached', 'descending', 'free', 'notched',\n",
    "        'close', 'crowded', 'distant',\n",
    "        'broad', 'narrow',\n",
    "        'black', 'brown', 'buff', 'chocolate', 'gray', 'green', 'orange', 'pink', 'purple', 'red', 'white', 'yellow',\n",
    "        'enlarging', 'tapering',\n",
    "        'bulbous', 'club', 'cup', 'equal', 'rhizomorphs', 'rooted', 'missing',\n",
    "        'fibrous', 'scaly', 'silky', 'smooth',\n",
    "        'fibrous', 'scaly', 'silky', 'smooth',\n",
    "        'brown', 'buff', 'cinnamon', 'gray', 'orange', 'pink', 'red', 'white', 'yellow',\n",
    "        'brown', 'buff', 'cinnamon', 'gray', 'orange', 'pink', 'red', 'white', 'yellow',\n",
    "        'partial', 'universal',\n",
    "        'brown', 'orange', 'white', 'yellow',\n",
    "        'none', 'one', 'two',\n",
    "        'cobwebby', 'evanescent', 'flaring', 'large', 'none', 'pendant', 'sheathing', 'zone',\n",
    "        'black', 'brown', 'buff', 'chocolate', 'green', 'orange', 'purple', 'white', 'yellow',\n",
    "        'abundant', 'clustered', 'numerous', 'scattered', 'several', 'solitary',\n",
    "        'grasses', 'leaves', 'meadows', 'paths', 'urban', 'waste', 'woods',\n",
    "        'bruises', 'no',\n",
    "        'almond', 'anise', 'creosote', 'fishy', 'foul', 'musty', 'none', 'pungent', 'spicy'\n",
    "    ]\n",
    "}\n",
    "\n",
    "data_codes = pd.DataFrame(data)"
   ]
  },
  {
   "cell_type": "code",
   "execution_count": 30,
   "metadata": {},
   "outputs": [
    {
     "data": {
      "text/html": [
       "<div>\n",
       "<style scoped>\n",
       "    .dataframe tbody tr th:only-of-type {\n",
       "        vertical-align: middle;\n",
       "    }\n",
       "\n",
       "    .dataframe tbody tr th {\n",
       "        vertical-align: top;\n",
       "    }\n",
       "\n",
       "    .dataframe thead th {\n",
       "        text-align: right;\n",
       "    }\n",
       "</style>\n",
       "<table border=\"1\" class=\"dataframe\">\n",
       "  <thead>\n",
       "    <tr style=\"text-align: right;\">\n",
       "      <th></th>\n",
       "      <th>feature_name_value</th>\n",
       "      <th>importance</th>\n",
       "      <th>name</th>\n",
       "      <th>value</th>\n",
       "      <th>description</th>\n",
       "    </tr>\n",
       "  </thead>\n",
       "  <tbody>\n",
       "    <tr>\n",
       "      <th>0</th>\n",
       "      <td>cap-shape : conical</td>\n",
       "      <td>0.000024</td>\n",
       "      <td>cap-shape</td>\n",
       "      <td>c</td>\n",
       "      <td>conical</td>\n",
       "    </tr>\n",
       "    <tr>\n",
       "      <th>1</th>\n",
       "      <td>cap-shape : flat</td>\n",
       "      <td>0.000084</td>\n",
       "      <td>cap-shape</td>\n",
       "      <td>f</td>\n",
       "      <td>flat</td>\n",
       "    </tr>\n",
       "    <tr>\n",
       "      <th>2</th>\n",
       "      <td>cap-shape : knobbed</td>\n",
       "      <td>0.000972</td>\n",
       "      <td>cap-shape</td>\n",
       "      <td>k</td>\n",
       "      <td>knobbed</td>\n",
       "    </tr>\n",
       "    <tr>\n",
       "      <th>3</th>\n",
       "      <td>cap-shape : sunken</td>\n",
       "      <td>0.000000</td>\n",
       "      <td>cap-shape</td>\n",
       "      <td>s</td>\n",
       "      <td>sunken</td>\n",
       "    </tr>\n",
       "    <tr>\n",
       "      <th>4</th>\n",
       "      <td>cap-shape : convex</td>\n",
       "      <td>0.000003</td>\n",
       "      <td>cap-shape</td>\n",
       "      <td>x</td>\n",
       "      <td>convex</td>\n",
       "    </tr>\n",
       "    <tr>\n",
       "      <th>...</th>\n",
       "      <td>...</td>\n",
       "      <td>...</td>\n",
       "      <td>...</td>\n",
       "      <td>...</td>\n",
       "      <td>...</td>\n",
       "    </tr>\n",
       "    <tr>\n",
       "      <th>84</th>\n",
       "      <td>stalk-ring-color-cap-color_same_above_below_ring</td>\n",
       "      <td>0.001971</td>\n",
       "      <td>stalk-ring-color-cap-color</td>\n",
       "      <td>same_above_below_ring</td>\n",
       "      <td>NaN</td>\n",
       "    </tr>\n",
       "    <tr>\n",
       "      <th>85</th>\n",
       "      <td>stalk-ring-color-cap-color_same_above_ring</td>\n",
       "      <td>0.000000</td>\n",
       "      <td>stalk-ring-color-cap-color</td>\n",
       "      <td>same_above_ring</td>\n",
       "      <td>NaN</td>\n",
       "    </tr>\n",
       "    <tr>\n",
       "      <th>86</th>\n",
       "      <td>stalk-ring-color-cap-color_same_below_ring</td>\n",
       "      <td>0.000000</td>\n",
       "      <td>stalk-ring-color-cap-color</td>\n",
       "      <td>same_below_ring</td>\n",
       "      <td>NaN</td>\n",
       "    </tr>\n",
       "    <tr>\n",
       "      <th>87</th>\n",
       "      <td>red_y</td>\n",
       "      <td>0.001201</td>\n",
       "      <td>red</td>\n",
       "      <td>y</td>\n",
       "      <td>NaN</td>\n",
       "    </tr>\n",
       "    <tr>\n",
       "      <th>88</th>\n",
       "      <td>white-gill_y</td>\n",
       "      <td>0.002019</td>\n",
       "      <td>white-gill</td>\n",
       "      <td>y</td>\n",
       "      <td>NaN</td>\n",
       "    </tr>\n",
       "  </tbody>\n",
       "</table>\n",
       "<p>89 rows × 5 columns</p>\n",
       "</div>"
      ],
      "text/plain": [
       "                                  feature_name_value  importance  \\\n",
       "0                                cap-shape : conical    0.000024   \n",
       "1                                   cap-shape : flat    0.000084   \n",
       "2                                cap-shape : knobbed    0.000972   \n",
       "3                                 cap-shape : sunken    0.000000   \n",
       "4                                 cap-shape : convex    0.000003   \n",
       "..                                               ...         ...   \n",
       "84  stalk-ring-color-cap-color_same_above_below_ring    0.001971   \n",
       "85        stalk-ring-color-cap-color_same_above_ring    0.000000   \n",
       "86        stalk-ring-color-cap-color_same_below_ring    0.000000   \n",
       "87                                             red_y    0.001201   \n",
       "88                                      white-gill_y    0.002019   \n",
       "\n",
       "                          name                  value description  \n",
       "0                    cap-shape                      c     conical  \n",
       "1                    cap-shape                      f        flat  \n",
       "2                    cap-shape                      k     knobbed  \n",
       "3                    cap-shape                      s      sunken  \n",
       "4                    cap-shape                      x      convex  \n",
       "..                         ...                    ...         ...  \n",
       "84  stalk-ring-color-cap-color  same_above_below_ring         NaN  \n",
       "85  stalk-ring-color-cap-color        same_above_ring         NaN  \n",
       "86  stalk-ring-color-cap-color        same_below_ring         NaN  \n",
       "87                         red                      y         NaN  \n",
       "88                  white-gill                      y         NaN  \n",
       "\n",
       "[89 rows x 5 columns]"
      ]
     },
     "execution_count": 30,
     "metadata": {},
     "output_type": "execute_result"
    }
   ],
   "source": [
    "# Combine the feature importances from the model and feature names from the training data\n",
    "feature_importances = pd.DataFrame(data={'feature_name_value':data_pipeline.get_feature_names_out(),\n",
    "                                         'importance':pipeline['rf'].feature_importances_}\n",
    "                                )\n",
    "feature_importances['feature_name_value']=feature_importances.feature_name_value.str.replace('categorical__','')\n",
    "feature_importances[['name', 'value']] = feature_importances['feature_name_value'].str.split('_', n=1, expand=True)\n",
    "feature_importances=feature_importances.merge(data_codes,how='left')\n",
    "feature_importances['feature_name_value']=np.where(feature_importances['description'].isna(),feature_importances['feature_name_value'],feature_importances['name']+\" : \"+feature_importances['description'])"
   ]
  },
  {
   "cell_type": "code",
   "execution_count": 31,
   "metadata": {},
   "outputs": [],
   "source": [
    "top_feats=feature_importances[['feature_name_value','importance']].sort_values(by='importance',ascending=False).head(10)\n",
    "bottom_feats=feature_importances[['feature_name_value','importance']].sort_values(by='importance',ascending=True).head(10)"
   ]
  },
  {
   "cell_type": "code",
   "execution_count": 32,
   "metadata": {},
   "outputs": [
    {
     "name": "stderr",
     "output_type": "stream",
     "text": [
      "No artists with labels found to put in legend.  Note that artists whose label start with an underscore are ignored when legend() is called with no argument.\n"
     ]
    },
    {
     "data": {
      "image/png": "[encoded data removed]",
      "text/plain": [
       "<Figure size 640x480 with 1 Axes>"
      ]
     },
     "metadata": {},
     "output_type": "display_data"
    }
   ],
   "source": [
    "sns.set_style(\"ticks\")\n",
    "ax=sns.barplot(data=top_feats,x='importance', y='feature_name_value', errorbar=None,palette='OrRd_r')\n",
    "plt.title('Top 10 Features That Are Most Indicative of a Poisonous Mushroom',y=1.03)\n",
    "plt.xlabel('Importance')\n",
    "plt.ylabel('')\n",
    "plt.legend(title='Group')\n",
    "sns.despine(offset=10, trim=True)\n",
    "sns.move_legend(ax, \"lower center\", bbox_to_anchor=(.5, .95), ncol=5, title=None, frameon=False)\n",
    "plt.show()"
   ]
  },
  {
   "cell_type": "code",
   "execution_count": 33,
   "metadata": {},
   "outputs": [
    {
     "name": "stderr",
     "output_type": "stream",
     "text": [
      "No artists with labels found to put in legend.  Note that artists whose label start with an underscore are ignored when legend() is called with no argument.\n"
     ]
    },
    {
     "data": {
      "image/png": "[encoded data removed]",
      "text/plain": [
       "<Figure size 640x480 with 1 Axes>"
      ]
     },
     "metadata": {},
     "output_type": "display_data"
    }
   ],
   "source": [
    "sns.set_style(\"ticks\")\n",
    "ax=sns.barplot(data=bottom_feats,x='importance', y='feature_name_value', errorbar=None,palette='GnBu_r')\n",
    "plt.title('Top 5 Features That Are LEAST Indicative of a Poisonous Mushroom',y=1.03)\n",
    "plt.xlabel('Importance')\n",
    "plt.ylabel('')\n",
    "plt.legend(title='Group')\n",
    "sns.despine(offset=10, trim=True)\n",
    "sns.move_legend(ax, \"lower center\", bbox_to_anchor=(.5, .95), ncol=5, title=None, frameon=False)\n",
    "plt.show()"
   ]
  },
  {
   "cell_type": "code",
   "execution_count": null,
   "metadata": {},
   "outputs": [],
   "source": []
  }
 ],
 "metadata": {
  "kernelspec": {
   "display_name": "Python 3",
   "language": "python",
   "name": "python3"
  },
  "language_info": {
   "codemirror_mode": {
    "name": "ipython",
    "version": 3
   },
   "file_extension": ".py",
   "mimetype": "text/x-python",
   "name": "python",
   "nbconvert_exporter": "python",
   "pygments_lexer": "ipython3",
   "version": "3.10.13"
  }
 },
 "nbformat": 4,
 "nbformat_minor": 2
}
