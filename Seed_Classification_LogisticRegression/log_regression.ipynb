{
 "cells": [
  {
   "cell_type": "code",
   "execution_count": 7,
   "metadata": {},
   "outputs": [],
   "source": [
    "# dataset\n",
    "from google.cloud import bigquery\n",
    "from google.oauth2 import service_account\n",
    "\n",
    "# maths and eda\n",
    "import numpy as np\n",
    "import pandas as pd\n",
    "from ydata_profiling import ProfileReport\n",
    "\n",
    "# viz\n",
    "import matplotlib.pyplot as plt\n",
    "%matplotlib inline\n",
    "import seaborn as sns\n",
    "\n",
    "# model\n",
    "from sklearn.ensemble import RandomForestClassifier\n",
    "from sklearn.metrics import accuracy_score, confusion_matrix, precision_score, recall_score, ConfusionMatrixDisplay\n",
    "from sklearn.model_selection import RandomizedSearchCV, train_test_split\n",
    "from sklearn.pipeline import Pipeline\n",
    "from sklearn.compose import ColumnTransformer\n",
    "from sklearn.preprocessing import StandardScaler\n",
    "from sklearn.impute import SimpleImputer\n",
    "\n",
    "import warnings\n",
    "warnings.filterwarnings(\"ignore\")\n",
    "\n",
    "credentials = service_account.Credentials.from_service_account_file('../credentials')\n",
    "# Initialize the BigQuery client\n",
    "client = bigquery.Client(credentials=credentials)"
   ]
  },
  {
   "cell_type": "code",
   "execution_count": 8,
   "metadata": {},
   "outputs": [
    {
     "data": {
      "text/html": [
       "<div>\n",
       "<style scoped>\n",
       "    .dataframe tbody tr th:only-of-type {\n",
       "        vertical-align: middle;\n",
       "    }\n",
       "\n",
       "    .dataframe tbody tr th {\n",
       "        vertical-align: top;\n",
       "    }\n",
       "\n",
       "    .dataframe thead th {\n",
       "        text-align: right;\n",
       "    }\n",
       "</style>\n",
       "<table border=\"1\" class=\"dataframe\">\n",
       "  <thead>\n",
       "    <tr style=\"text-align: right;\">\n",
       "      <th></th>\n",
       "      <th>Area</th>\n",
       "      <th>Perimeter</th>\n",
       "      <th>Major_Axis_Length</th>\n",
       "      <th>Minor_Axis_Length</th>\n",
       "      <th>Convex_Area</th>\n",
       "      <th>Equiv_Diameter</th>\n",
       "      <th>Eccentricity</th>\n",
       "      <th>Solidity</th>\n",
       "      <th>Extent</th>\n",
       "      <th>Roundness</th>\n",
       "      <th>Aspect_Ration</th>\n",
       "      <th>Compactness</th>\n",
       "      <th>Class</th>\n",
       "    </tr>\n",
       "  </thead>\n",
       "  <tbody>\n",
       "    <tr>\n",
       "      <th>0</th>\n",
       "      <td>69843</td>\n",
       "      <td>1026.683</td>\n",
       "      <td>408.7731</td>\n",
       "      <td>218.3650</td>\n",
       "      <td>70810</td>\n",
       "      <td>298.2061</td>\n",
       "      <td>0.8454</td>\n",
       "      <td>0.9863</td>\n",
       "      <td>0.6400</td>\n",
       "      <td>0.8326</td>\n",
       "      <td>1.8720</td>\n",
       "      <td>0.7295</td>\n",
       "      <td>Çerçevelik</td>\n",
       "    </tr>\n",
       "    <tr>\n",
       "      <th>1</th>\n",
       "      <td>67306</td>\n",
       "      <td>998.616</td>\n",
       "      <td>375.0199</td>\n",
       "      <td>229.2614</td>\n",
       "      <td>68240</td>\n",
       "      <td>292.7399</td>\n",
       "      <td>0.7914</td>\n",
       "      <td>0.9863</td>\n",
       "      <td>0.6897</td>\n",
       "      <td>0.8481</td>\n",
       "      <td>1.6358</td>\n",
       "      <td>0.7806</td>\n",
       "      <td>Çerçevelik</td>\n",
       "    </tr>\n",
       "    <tr>\n",
       "      <th>2</th>\n",
       "      <td>81013</td>\n",
       "      <td>1109.727</td>\n",
       "      <td>425.0978</td>\n",
       "      <td>244.3291</td>\n",
       "      <td>82136</td>\n",
       "      <td>321.1681</td>\n",
       "      <td>0.8183</td>\n",
       "      <td>0.9863</td>\n",
       "      <td>0.6917</td>\n",
       "      <td>0.8267</td>\n",
       "      <td>1.7399</td>\n",
       "      <td>0.7555</td>\n",
       "      <td>Çerçevelik</td>\n",
       "    </tr>\n",
       "    <tr>\n",
       "      <th>3</th>\n",
       "      <td>73326</td>\n",
       "      <td>1048.647</td>\n",
       "      <td>408.7890</td>\n",
       "      <td>229.6360</td>\n",
       "      <td>74342</td>\n",
       "      <td>305.5512</td>\n",
       "      <td>0.8273</td>\n",
       "      <td>0.9863</td>\n",
       "      <td>0.7165</td>\n",
       "      <td>0.8379</td>\n",
       "      <td>1.7802</td>\n",
       "      <td>0.7475</td>\n",
       "      <td>Çerçevelik</td>\n",
       "    </tr>\n",
       "    <tr>\n",
       "      <th>4</th>\n",
       "      <td>79754</td>\n",
       "      <td>1132.588</td>\n",
       "      <td>459.8052</td>\n",
       "      <td>222.0332</td>\n",
       "      <td>80858</td>\n",
       "      <td>318.6627</td>\n",
       "      <td>0.8757</td>\n",
       "      <td>0.9863</td>\n",
       "      <td>0.6748</td>\n",
       "      <td>0.7813</td>\n",
       "      <td>2.0709</td>\n",
       "      <td>0.6930</td>\n",
       "      <td>Çerçevelik</td>\n",
       "    </tr>\n",
       "  </tbody>\n",
       "</table>\n",
       "</div>"
      ],
      "text/plain": [
       "    Area  Perimeter  Major_Axis_Length  Minor_Axis_Length  Convex_Area  \\\n",
       "0  69843   1026.683           408.7731           218.3650        70810   \n",
       "1  67306    998.616           375.0199           229.2614        68240   \n",
       "2  81013   1109.727           425.0978           244.3291        82136   \n",
       "3  73326   1048.647           408.7890           229.6360        74342   \n",
       "4  79754   1132.588           459.8052           222.0332        80858   \n",
       "\n",
       "   Equiv_Diameter  Eccentricity  Solidity  Extent  Roundness  Aspect_Ration  \\\n",
       "0        298.2061        0.8454    0.9863  0.6400     0.8326         1.8720   \n",
       "1        292.7399        0.7914    0.9863  0.6897     0.8481         1.6358   \n",
       "2        321.1681        0.8183    0.9863  0.6917     0.8267         1.7399   \n",
       "3        305.5512        0.8273    0.9863  0.7165     0.8379         1.7802   \n",
       "4        318.6627        0.8757    0.9863  0.6748     0.7813         2.0709   \n",
       "\n",
       "   Compactness       Class  \n",
       "0       0.7295  Çerçevelik  \n",
       "1       0.7806  Çerçevelik  \n",
       "2       0.7555  Çerçevelik  \n",
       "3       0.7475  Çerçevelik  \n",
       "4       0.6930  Çerçevelik  "
      ]
     },
     "execution_count": 8,
     "metadata": {},
     "output_type": "execute_result"
    }
   ],
   "source": [
    "# query data\n",
    "QUERY = (\"\"\"SELECT * FROM `portfoliodata-428314.kaggle.pumpkin_seeds`\"\"\")\n",
    "query_job = client.query(QUERY)\n",
    "pumpkin = query_job.result().to_dataframe()\n",
    "pumpkin.head()"
   ]
  },
  {
   "cell_type": "markdown",
   "metadata": {},
   "source": [
    "# EDA"
   ]
  },
  {
   "cell_type": "code",
   "execution_count": 9,
   "metadata": {},
   "outputs": [],
   "source": [
    "# mushrooms_profile = ProfileReport(mushrooms, title=\"Report\")\n",
    "# mushrooms_profile"
   ]
  },
  {
   "cell_type": "code",
   "execution_count": 10,
   "metadata": {},
   "outputs": [
    {
     "data": {
      "text/plain": [
       "Class\n",
       "Çerçevelik       1300\n",
       "Ürgüp Sivrisi    1200\n",
       "Name: count, dtype: int64"
      ]
     },
     "execution_count": 10,
     "metadata": {},
     "output_type": "execute_result"
    }
   ],
   "source": [
    "pumpkin.Class.value_counts()"
   ]
  },
  {
   "cell_type": "code",
   "execution_count": 11,
   "metadata": {},
   "outputs": [],
   "source": [
    "# sns.pairplot(pumpkin)"
   ]
  },
  {
   "cell_type": "markdown",
   "metadata": {},
   "source": [
    "# Logistic Regression"
   ]
  },
  {
   "cell_type": "code",
   "execution_count": 12,
   "metadata": {},
   "outputs": [
    {
     "name": "stdout",
     "output_type": "stream",
     "text": [
      "Accuracy: 0.866 Precision: 0.8661 Recall: 0.866\n",
      "\n"
     ]
    }
   ],
   "source": [
    "from sklearn.linear_model import LogisticRegression\n",
    "X = pumpkin.drop('Class', axis=1)\n",
    "y = pumpkin['Class']\n",
    "\n",
    "# this dataset only contains numerical features\n",
    "numerical_pipeline = Pipeline([('std_scaler', StandardScaler()),('imputer', SimpleImputer(strategy='mean'))])\n",
    "\n",
    "data_pipeline = ColumnTransformer([('categorical', numerical_pipeline, X.columns)])\n",
    "\n",
    "# 20% out of bag test dataset\n",
    "X_train, X_test, y_train, y_test = train_test_split(X, y, test_size=0.2)\n",
    "\n",
    "pipeline = Pipeline(steps=[('data_pipeline', data_pipeline),('lg', LogisticRegression())])\n",
    "\n",
    "pipeline.fit(X_train, y_train)\n",
    "\n",
    "# evaluate the model on the out of bag test dataset\n",
    "y_pred = pipeline.predict(X_test)\n",
    "\n",
    "# metrics\n",
    "accuracy = round(accuracy_score(y_test, y_pred),4)\n",
    "precision = round(precision_score(y_test, y_pred, average='weighted'),4)\n",
    "recall = round(recall_score(y_test, y_pred, average='weighted'),4)\n",
    "# print(f\"Metrics for models with max depth = {md}\")\n",
    "print(f\"Accuracy: {accuracy} Precision: {precision} Recall: {recall}\\n\")"
   ]
  }
 ],
 "metadata": {
  "kernelspec": {
   "display_name": "Python 3",
   "language": "python",
   "name": "python3"
  },
  "language_info": {
   "codemirror_mode": {
    "name": "ipython",
    "version": 3
   },
   "file_extension": ".py",
   "mimetype": "text/x-python",
   "name": "python",
   "nbconvert_exporter": "python",
   "pygments_lexer": "ipython3",
   "version": "3.10.13"
  }
 },
 "nbformat": 4,
 "nbformat_minor": 2
}
