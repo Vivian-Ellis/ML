{
 "cells": [
  {
   "cell_type": "code",
   "execution_count": 1,
   "metadata": {},
   "outputs": [],
   "source": [
    "# dataset\n",
    "from google.cloud import bigquery\n",
    "\n",
    "# maths and eda\n",
    "import pandas as pd\n",
    "\n",
    "# model\n",
    "from sklearn.preprocessing import StandardScaler\n",
    "from training import modelTrain\n",
    "import warnings\n",
    "warnings.filterwarnings(\"ignore\")\n",
    "\n",
    "import os\n",
    "# Create the credentials object\n",
    "os.environ[\"GOOGLE_APPLICATION_CREDENTIALS\"] = \"../../credentials.json\"\n",
    "\n",
    "# Initialize the BigQuery client\n",
    "client = bigquery.Client(project=\"portfoliodata-428314\")"
   ]
  },
  {
   "cell_type": "code",
   "execution_count": 2,
   "metadata": {},
   "outputs": [
    {
     "data": {
      "text/html": [
       "<div>\n",
       "<style scoped>\n",
       "    .dataframe tbody tr th:only-of-type {\n",
       "        vertical-align: middle;\n",
       "    }\n",
       "\n",
       "    .dataframe tbody tr th {\n",
       "        vertical-align: top;\n",
       "    }\n",
       "\n",
       "    .dataframe thead th {\n",
       "        text-align: right;\n",
       "    }\n",
       "</style>\n",
       "<table border=\"1\" class=\"dataframe\">\n",
       "  <thead>\n",
       "    <tr style=\"text-align: right;\">\n",
       "      <th></th>\n",
       "      <th>customerID</th>\n",
       "      <th>gender</th>\n",
       "      <th>SeniorCitizen</th>\n",
       "      <th>Partner</th>\n",
       "      <th>Dependents</th>\n",
       "      <th>tenure</th>\n",
       "      <th>PhoneService</th>\n",
       "      <th>MultipleLines</th>\n",
       "      <th>InternetService</th>\n",
       "      <th>OnlineSecurity</th>\n",
       "      <th>...</th>\n",
       "      <th>DeviceProtection</th>\n",
       "      <th>TechSupport</th>\n",
       "      <th>StreamingTV</th>\n",
       "      <th>StreamingMovies</th>\n",
       "      <th>Contract</th>\n",
       "      <th>PaperlessBilling</th>\n",
       "      <th>PaymentMethod</th>\n",
       "      <th>MonthlyCharges</th>\n",
       "      <th>TotalCharges</th>\n",
       "      <th>Churn</th>\n",
       "    </tr>\n",
       "  </thead>\n",
       "  <tbody>\n",
       "    <tr>\n",
       "      <th>0</th>\n",
       "      <td>9732-OUYRN</td>\n",
       "      <td>Female</td>\n",
       "      <td>0</td>\n",
       "      <td>True</td>\n",
       "      <td>False</td>\n",
       "      <td>49</td>\n",
       "      <td>True</td>\n",
       "      <td>No</td>\n",
       "      <td>No</td>\n",
       "      <td>No internet service</td>\n",
       "      <td>...</td>\n",
       "      <td>No internet service</td>\n",
       "      <td>No internet service</td>\n",
       "      <td>No internet service</td>\n",
       "      <td>No internet service</td>\n",
       "      <td>One year</td>\n",
       "      <td>False</td>\n",
       "      <td>Credit card (automatic)</td>\n",
       "      <td>19.0</td>\n",
       "      <td>918.7</td>\n",
       "      <td>False</td>\n",
       "    </tr>\n",
       "    <tr>\n",
       "      <th>1</th>\n",
       "      <td>0661-KQHNK</td>\n",
       "      <td>Female</td>\n",
       "      <td>0</td>\n",
       "      <td>True</td>\n",
       "      <td>True</td>\n",
       "      <td>6</td>\n",
       "      <td>True</td>\n",
       "      <td>No</td>\n",
       "      <td>No</td>\n",
       "      <td>No internet service</td>\n",
       "      <td>...</td>\n",
       "      <td>No internet service</td>\n",
       "      <td>No internet service</td>\n",
       "      <td>No internet service</td>\n",
       "      <td>No internet service</td>\n",
       "      <td>One year</td>\n",
       "      <td>False</td>\n",
       "      <td>Credit card (automatic)</td>\n",
       "      <td>19.0</td>\n",
       "      <td>105.5</td>\n",
       "      <td>False</td>\n",
       "    </tr>\n",
       "    <tr>\n",
       "      <th>2</th>\n",
       "      <td>4709-LKHYG</td>\n",
       "      <td>Female</td>\n",
       "      <td>0</td>\n",
       "      <td>True</td>\n",
       "      <td>True</td>\n",
       "      <td>29</td>\n",
       "      <td>True</td>\n",
       "      <td>No</td>\n",
       "      <td>No</td>\n",
       "      <td>No internet service</td>\n",
       "      <td>...</td>\n",
       "      <td>No internet service</td>\n",
       "      <td>No internet service</td>\n",
       "      <td>No internet service</td>\n",
       "      <td>No internet service</td>\n",
       "      <td>One year</td>\n",
       "      <td>False</td>\n",
       "      <td>Electronic check</td>\n",
       "      <td>20.0</td>\n",
       "      <td>540.05</td>\n",
       "      <td>False</td>\n",
       "    </tr>\n",
       "  </tbody>\n",
       "</table>\n",
       "<p>3 rows × 21 columns</p>\n",
       "</div>"
      ],
      "text/plain": [
       "   customerID  gender  SeniorCitizen  Partner  Dependents  tenure  \\\n",
       "0  9732-OUYRN  Female              0     True       False      49   \n",
       "1  0661-KQHNK  Female              0     True        True       6   \n",
       "2  4709-LKHYG  Female              0     True        True      29   \n",
       "\n",
       "   PhoneService MultipleLines InternetService       OnlineSecurity  ...  \\\n",
       "0          True            No              No  No internet service  ...   \n",
       "1          True            No              No  No internet service  ...   \n",
       "2          True            No              No  No internet service  ...   \n",
       "\n",
       "      DeviceProtection          TechSupport          StreamingTV  \\\n",
       "0  No internet service  No internet service  No internet service   \n",
       "1  No internet service  No internet service  No internet service   \n",
       "2  No internet service  No internet service  No internet service   \n",
       "\n",
       "       StreamingMovies  Contract PaperlessBilling            PaymentMethod  \\\n",
       "0  No internet service  One year            False  Credit card (automatic)   \n",
       "1  No internet service  One year            False  Credit card (automatic)   \n",
       "2  No internet service  One year            False         Electronic check   \n",
       "\n",
       "  MonthlyCharges  TotalCharges  Churn  \n",
       "0           19.0         918.7  False  \n",
       "1           19.0         105.5  False  \n",
       "2           20.0        540.05  False  \n",
       "\n",
       "[3 rows x 21 columns]"
      ]
     },
     "execution_count": 2,
     "metadata": {},
     "output_type": "execute_result"
    }
   ],
   "source": [
    "# query data\n",
    "QUERY = (\"\"\"SELECT * FROM `portfoliodata-428314.kaggle.customer_churn`\"\"\")\n",
    "query_job = client.query(QUERY)\n",
    "df = query_job.result().to_dataframe()\n",
    "df.head(3)"
   ]
  },
  {
   "cell_type": "code",
   "execution_count": 3,
   "metadata": {},
   "outputs": [
    {
     "name": "stdout",
     "output_type": "stream",
     "text": [
      "<class 'pandas.core.frame.DataFrame'>\n",
      "RangeIndex: 7043 entries, 0 to 7042\n",
      "Data columns (total 21 columns):\n",
      " #   Column            Non-Null Count  Dtype  \n",
      "---  ------            --------------  -----  \n",
      " 0   customerID        7043 non-null   object \n",
      " 1   gender            7043 non-null   object \n",
      " 2   SeniorCitizen     7043 non-null   Int64  \n",
      " 3   Partner           7043 non-null   boolean\n",
      " 4   Dependents        7043 non-null   boolean\n",
      " 5   tenure            7043 non-null   Int64  \n",
      " 6   PhoneService      7043 non-null   boolean\n",
      " 7   MultipleLines     7043 non-null   object \n",
      " 8   InternetService   7043 non-null   object \n",
      " 9   OnlineSecurity    7043 non-null   object \n",
      " 10  OnlineBackup      7043 non-null   object \n",
      " 11  DeviceProtection  7043 non-null   object \n",
      " 12  TechSupport       7043 non-null   object \n",
      " 13  StreamingTV       7043 non-null   object \n",
      " 14  StreamingMovies   7043 non-null   object \n",
      " 15  Contract          7043 non-null   object \n",
      " 16  PaperlessBilling  7043 non-null   boolean\n",
      " 17  PaymentMethod     7043 non-null   object \n",
      " 18  MonthlyCharges    7043 non-null   float64\n",
      " 19  TotalCharges      7043 non-null   object \n",
      " 20  Churn             7043 non-null   boolean\n",
      "dtypes: Int64(2), boolean(5), float64(1), object(13)\n",
      "memory usage: 963.0+ KB\n"
     ]
    }
   ],
   "source": [
    "df.info()"
   ]
  },
  {
   "cell_type": "code",
   "execution_count": 4,
   "metadata": {},
   "outputs": [],
   "source": [
    "# remove the blank total charges\n",
    "df=df[df['TotalCharges']!=' ']\n",
    "\n",
    "df['TotalCharges'] = df['TotalCharges'].astype(float)"
   ]
  },
  {
   "cell_type": "code",
   "execution_count": 5,
   "metadata": {},
   "outputs": [
    {
     "data": {
      "text/plain": [
       "7032"
      ]
     },
     "execution_count": 5,
     "metadata": {},
     "output_type": "execute_result"
    }
   ],
   "source": [
    "df.customerID.nunique()"
   ]
  },
  {
   "cell_type": "code",
   "execution_count": 6,
   "metadata": {},
   "outputs": [],
   "source": [
    "cat_fields=['gender', 'MultipleLines', 'InternetService',\n",
    "       'OnlineSecurity', 'OnlineBackup', 'DeviceProtection', 'TechSupport',\n",
    "       'StreamingTV', 'StreamingMovies', 'Contract', 'PaymentMethod']\n",
    "\n",
    "num_fields=['tenure','MonthlyCharges', 'TotalCharges']\n",
    "\n",
    "df=pd.get_dummies(df,columns=cat_fields)\n",
    "df[num_fields] = StandardScaler().fit_transform(df[num_fields])\n",
    "\n",
    "df=df.drop(columns=['customerID'])\n",
    "\n",
    "feats=['SeniorCitizen', 'Partner', 'Dependents', 'tenure', 'PhoneService',\n",
    "       'PaperlessBilling', 'MonthlyCharges', 'TotalCharges',\n",
    "       'gender_Female', 'gender_Male', 'MultipleLines_No',\n",
    "       'MultipleLines_No phone service', 'MultipleLines_Yes',\n",
    "       'InternetService_DSL', 'InternetService_Fiber optic',\n",
    "       'InternetService_No', 'OnlineSecurity_No',\n",
    "       'OnlineSecurity_No internet service', 'OnlineSecurity_Yes',\n",
    "       'OnlineBackup_No', 'OnlineBackup_No internet service',\n",
    "       'OnlineBackup_Yes', 'DeviceProtection_No',\n",
    "       'DeviceProtection_No internet service', 'DeviceProtection_Yes',\n",
    "       'TechSupport_No', 'TechSupport_No internet service', 'TechSupport_Yes',\n",
    "       'StreamingTV_No', 'StreamingTV_No internet service', 'StreamingTV_Yes',\n",
    "       'StreamingMovies_No', 'StreamingMovies_No internet service',\n",
    "       'StreamingMovies_Yes', 'Contract_Month-to-month', 'Contract_One year',\n",
    "       'Contract_Two year', 'PaymentMethod_Bank transfer (automatic)',\n",
    "       'PaymentMethod_Credit card (automatic)',\n",
    "       'PaymentMethod_Electronic check', 'PaymentMethod_Mailed check']"
   ]
  },
  {
   "cell_type": "code",
   "execution_count": 15,
   "metadata": {},
   "outputs": [
    {
     "name": "stdout",
     "output_type": "stream",
     "text": [
      "step [100/7000],training loss: 0.6133, validation loss: 0.6246, validation accuracy: 0.712\n",
      "step [200/7000],training loss: 0.612, validation loss: 0.6236, validation accuracy: 0.712\n",
      "step [300/7000],training loss: 0.6107, validation loss: 0.6225, validation accuracy: 0.712\n",
      "step [400/7000],training loss: 0.6094, validation loss: 0.6215, validation accuracy: 0.712\n",
      "step [500/7000],training loss: 0.6081, validation loss: 0.6205, validation accuracy: 0.712\n",
      "step [600/7000],training loss: 0.6068, validation loss: 0.6194, validation accuracy: 0.712\n",
      "step [700/7000],training loss: 0.6056, validation loss: 0.6185, validation accuracy: 0.712\n",
      "step [800/7000],training loss: 0.6043, validation loss: 0.6175, validation accuracy: 0.712\n",
      "step [900/7000],training loss: 0.603, validation loss: 0.6165, validation accuracy: 0.712\n",
      "step [1000/7000],training loss: 0.6017, validation loss: 0.6155, validation accuracy: 0.712\n",
      "step [1100/7000],training loss: 0.6004, validation loss: 0.6145, validation accuracy: 0.712\n",
      "step [1200/7000],training loss: 0.5991, validation loss: 0.6135, validation accuracy: 0.712\n",
      "step [1300/7000],training loss: 0.5978, validation loss: 0.6126, validation accuracy: 0.712\n",
      "step [1400/7000],training loss: 0.5966, validation loss: 0.6116, validation accuracy: 0.712\n",
      "step [1500/7000],training loss: 0.5953, validation loss: 0.6107, validation accuracy: 0.712\n",
      "step [1600/7000],training loss: 0.5942, validation loss: 0.6099, validation accuracy: 0.712\n",
      "step [1700/7000],training loss: 0.5931, validation loss: 0.6091, validation accuracy: 0.712\n",
      "step [1800/7000],training loss: 0.592, validation loss: 0.6084, validation accuracy: 0.712\n",
      "step [1900/7000],training loss: 0.591, validation loss: 0.6077, validation accuracy: 0.712\n",
      "step [2000/7000],training loss: 0.5901, validation loss: 0.607, validation accuracy: 0.712\n",
      "step [2100/7000],training loss: 0.5892, validation loss: 0.6065, validation accuracy: 0.712\n",
      "step [2200/7000],training loss: 0.5884, validation loss: 0.606, validation accuracy: 0.712\n",
      "step [2300/7000],training loss: 0.5877, validation loss: 0.6055, validation accuracy: 0.712\n",
      "step [2400/7000],training loss: 0.587, validation loss: 0.6051, validation accuracy: 0.712\n",
      "step [2500/7000],training loss: 0.5865, validation loss: 0.6048, validation accuracy: 0.712\n",
      "step [2600/7000],training loss: 0.5859, validation loss: 0.6045, validation accuracy: 0.712\n",
      "step [2700/7000],training loss: 0.5854, validation loss: 0.6043, validation accuracy: 0.712\n",
      "step [2800/7000],training loss: 0.585, validation loss: 0.6041, validation accuracy: 0.712\n",
      "step [2900/7000],training loss: 0.5846, validation loss: 0.6039, validation accuracy: 0.712\n",
      "step [3000/7000],training loss: 0.5842, validation loss: 0.6037, validation accuracy: 0.712\n",
      "step [3100/7000],training loss: 0.5839, validation loss: 0.6036, validation accuracy: 0.712\n",
      "step [3200/7000],training loss: 0.5835, validation loss: 0.6035, validation accuracy: 0.712\n",
      "step [3300/7000],training loss: 0.5832, validation loss: 0.6033, validation accuracy: 0.712\n",
      "step [3400/7000],training loss: 0.5829, validation loss: 0.6032, validation accuracy: 0.712\n",
      "step [3500/7000],training loss: 0.5826, validation loss: 0.6031, validation accuracy: 0.712\n",
      "step [3600/7000],training loss: 0.5824, validation loss: 0.6029, validation accuracy: 0.712\n",
      "step [3700/7000],training loss: 0.5821, validation loss: 0.6028, validation accuracy: 0.712\n",
      "step [3800/7000],training loss: 0.5818, validation loss: 0.6027, validation accuracy: 0.712\n",
      "step [3900/7000],training loss: 0.5815, validation loss: 0.6025, validation accuracy: 0.712\n",
      "step [4000/7000],training loss: 0.5812, validation loss: 0.6024, validation accuracy: 0.712\n",
      "step [4100/7000],training loss: 0.5809, validation loss: 0.6022, validation accuracy: 0.712\n",
      "step [4200/7000],training loss: 0.5806, validation loss: 0.602, validation accuracy: 0.712\n",
      "step [4300/7000],training loss: 0.5803, validation loss: 0.6019, validation accuracy: 0.712\n",
      "step [4400/7000],training loss: 0.58, validation loss: 0.6017, validation accuracy: 0.712\n",
      "step [4500/7000],training loss: 0.5798, validation loss: 0.6016, validation accuracy: 0.712\n",
      "step [4600/7000],training loss: 0.5795, validation loss: 0.6014, validation accuracy: 0.712\n",
      "step [4700/7000],training loss: 0.5792, validation loss: 0.6013, validation accuracy: 0.712\n",
      "step [4800/7000],training loss: 0.5789, validation loss: 0.6011, validation accuracy: 0.712\n",
      "step [4900/7000],training loss: 0.5786, validation loss: 0.601, validation accuracy: 0.712\n",
      "step [5000/7000],training loss: 0.5783, validation loss: 0.6008, validation accuracy: 0.712\n",
      "step [5100/7000],training loss: 0.578, validation loss: 0.6006, validation accuracy: 0.712\n",
      "step [5200/7000],training loss: 0.5777, validation loss: 0.6005, validation accuracy: 0.712\n",
      "step [5300/7000],training loss: 0.5774, validation loss: 0.6003, validation accuracy: 0.712\n",
      "step [5400/7000],training loss: 0.5771, validation loss: 0.6001, validation accuracy: 0.712\n",
      "step [5500/7000],training loss: 0.5768, validation loss: 0.6, validation accuracy: 0.712\n",
      "step [5600/7000],training loss: 0.5765, validation loss: 0.5998, validation accuracy: 0.712\n",
      "step [5700/7000],training loss: 0.5763, validation loss: 0.5997, validation accuracy: 0.712\n",
      "step [5800/7000],training loss: 0.576, validation loss: 0.5995, validation accuracy: 0.712\n",
      "step [5900/7000],training loss: 0.5757, validation loss: 0.5994, validation accuracy: 0.712\n",
      "step [6000/7000],training loss: 0.5753, validation loss: 0.5993, validation accuracy: 0.712\n",
      "step [6100/7000],training loss: 0.575, validation loss: 0.5991, validation accuracy: 0.712\n",
      "step [6200/7000],training loss: 0.5747, validation loss: 0.599, validation accuracy: 0.712\n",
      "step [6300/7000],training loss: 0.5744, validation loss: 0.5989, validation accuracy: 0.712\n",
      "step [6400/7000],training loss: 0.5741, validation loss: 0.5988, validation accuracy: 0.712\n",
      "step [6500/7000],training loss: 0.5738, validation loss: 0.5987, validation accuracy: 0.712\n",
      "step [6600/7000],training loss: 0.5735, validation loss: 0.5986, validation accuracy: 0.712\n",
      "step [6700/7000],training loss: 0.5732, validation loss: 0.5985, validation accuracy: 0.712\n",
      "step [6800/7000],training loss: 0.5729, validation loss: 0.5984, validation accuracy: 0.712\n",
      "step [6900/7000],training loss: 0.5727, validation loss: 0.5983, validation accuracy: 0.712\n",
      "step [7000/7000],training loss: 0.5724, validation loss: 0.5983, validation accuracy: 0.712\n",
      "Total Test Loss: 0.5649\n",
      "Accuracy of the network: 74.41364288330078 %\n"
     ]
    }
   ],
   "source": [
    "data_splits=modelTrain.model_data_splits(df=df,feats=feats,target='Churn')\n",
    "deep_model,criterion,losses=modelTrain.model_train(data_splits=data_splits,steps=7000,learning_rate=1e-5,hidden_size=12,patience=10,verbose=True)\n",
    "test_y_pred=modelTrain.model_eval(deep_model,data_splits,criterion)"
   ]
  },
  {
   "cell_type": "code",
   "execution_count": 16,
   "metadata": {},
   "outputs": [
    {
     "data": {
      "image/png": "[encoded data removed]",
      "text/plain": [
       "<Figure size 1500x500 with 1 Axes>"
      ]
     },
     "metadata": {},
     "output_type": "display_data"
    }
   ],
   "source": [
    "modelTrain.plot_learning_curve(losses)"
   ]
  },
  {
   "cell_type": "code",
   "execution_count": 18,
   "metadata": {},
   "outputs": [
    {
     "data": {
      "text/plain": [
       "torch.Size([1407, 1])"
      ]
     },
     "execution_count": 18,
     "metadata": {},
     "output_type": "execute_result"
    }
   ],
   "source": [
    "\n",
    "import sklearn.metrics\n",
    "\n",
    "r = sklearn.metrics.confusion_matrix(data_splits['y_test'], test_y_pred)\n",
    "print(r)"
   ]
  },
  {
   "cell_type": "code",
   "execution_count": null,
   "metadata": {},
   "outputs": [],
   "source": []
  }
 ],
 "metadata": {
  "kernelspec": {
   "display_name": ".venv",
   "language": "python",
   "name": "python3"
  },
  "language_info": {
   "codemirror_mode": {
    "name": "ipython",
    "version": 3
   },
   "file_extension": ".py",
   "mimetype": "text/x-python",
   "name": "python",
   "nbconvert_exporter": "python",
   "pygments_lexer": "ipython3",
   "version": "3.11.2"
  }
 },
 "nbformat": 4,
 "nbformat_minor": 2
}
